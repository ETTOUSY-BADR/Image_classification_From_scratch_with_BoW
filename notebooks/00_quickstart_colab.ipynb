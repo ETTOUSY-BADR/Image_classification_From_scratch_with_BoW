{
 "cells": [
  {
   "cell_type": "code",
   "execution_count": 15,
   "id": "dd86768d",
   "metadata": {},
   "outputs": [
    {
     "name": "stdout",
     "output_type": "stream",
     "text": [
      "Python path updated with: c:\\Users\\badre\\OneDrive\\Documents\\Image_classification_From_scratch_with_Bow\\src\n"
     ]
    }
   ],
   "source": [
    "import sys\n",
    "import os\n",
    "\n",
    "# go up one directory from \"notebooks\" to project root, then into src\n",
    "project_root = os.path.abspath(os.path.join(os.getcwd(), \"..\"))\n",
    "sys.path.append(os.path.join(project_root, \"src\"))\n",
    "\n",
    "print(\"Python path updated with:\", os.path.join(project_root, \"src\"))\n",
    "# Now you can import modules from src/imagebow\n",
    "from imagebow.data import load_stl10\n",
    "from imagebow.hog import dense_hog\n",
    "from imagebow.kmeans import kmeans\n",
    "from imagebow.knn import predict_knn, accuracy\n",
    "\n"
   ]
  },
  {
   "cell_type": "code",
   "execution_count": 17,
   "id": "ede3e4f2",
   "metadata": {},
   "outputs": [
    {
     "ename": "FileNotFoundError",
     "evalue": "Expected data_root/stl10_raw or data_root/stl10_binary",
     "output_type": "error",
     "traceback": [
      "\u001b[31m---------------------------------------------------------------------------\u001b[39m",
      "\u001b[31mFileNotFoundError\u001b[39m                         Traceback (most recent call last)",
      "\u001b[36mCell\u001b[39m\u001b[36m \u001b[39m\u001b[32mIn[17]\u001b[39m\u001b[32m, line 3\u001b[39m\n\u001b[32m      1\u001b[39m \u001b[38;5;28;01mfrom\u001b[39;00m\u001b[38;5;250m \u001b[39m\u001b[34;01mimagebow\u001b[39;00m\u001b[34;01m.\u001b[39;00m\u001b[34;01mdata\u001b[39;00m\u001b[38;5;250m \u001b[39m\u001b[38;5;28;01mimport\u001b[39;00m load_stl10\n\u001b[32m----> \u001b[39m\u001b[32m3\u001b[39m X, y = \u001b[43mload_stl10\u001b[49m\u001b[43m(\u001b[49m\u001b[33;43m\"\u001b[39;49m\u001b[33;43m./data_STL10\u001b[39;49m\u001b[33;43m\"\u001b[39;49m\u001b[43m,\u001b[49m\u001b[43m \u001b[49m\u001b[43msplit\u001b[49m\u001b[43m=\u001b[49m\u001b[33;43m\"\u001b[39;49m\u001b[33;43mtrain\u001b[39;49m\u001b[33;43m\"\u001b[39;49m\u001b[43m)\u001b[49m\n\u001b[32m      4\u001b[39m \u001b[38;5;28mprint\u001b[39m(\u001b[33m\"\u001b[39m\u001b[33mShape:\u001b[39m\u001b[33m\"\u001b[39m, X.shape, y.shape)\n\u001b[32m      7\u001b[39m \u001b[38;5;66;03m# Loads STL-10 data from data_root folder\u001b[39;00m\n\u001b[32m      8\u001b[39m \u001b[38;5;66;03m# Returns (N,96,96,3) array of images and (N,) array of labels\u001b[39;00m\n\u001b[32m      9\u001b[39m \u001b[38;5;66;03m# --- IGNORE ---\u001b[39;00m\n",
      "\u001b[36mFile \u001b[39m\u001b[32mc:\\Users\\badre\\OneDrive\\Documents\\Image_classification_From_scratch_with_Bow\\src\\imagebow\\data.py:50\u001b[39m, in \u001b[36mload_stl10\u001b[39m\u001b[34m(data_root, split)\u001b[39m\n\u001b[32m     48\u001b[39m \u001b[38;5;28;01mif\u001b[39;00m os.path.isdir(bin_root):\n\u001b[32m     49\u001b[39m     \u001b[38;5;28;01mreturn\u001b[39;00m load_stl10_binary(bin_root, split)\n\u001b[32m---> \u001b[39m\u001b[32m50\u001b[39m \u001b[38;5;28;01mraise\u001b[39;00m \u001b[38;5;167;01mFileNotFoundError\u001b[39;00m(\u001b[33m\"\u001b[39m\u001b[33mExpected data_root/stl10_raw or data_root/stl10_binary\u001b[39m\u001b[33m\"\u001b[39m)\n",
      "\u001b[31mFileNotFoundError\u001b[39m: Expected data_root/stl10_raw or data_root/stl10_binary"
     ]
    }
   ],
   "source": [
    "from imagebow.data import load_stl10\n",
    "\n",
    "X, y = load_stl10(\"./data_STL10\", split=\"train\")\n",
    "print(\"Shape:\", X.shape, y.shape)\n",
    "\n",
    "\n",
    "# Loads STL-10 data from data_root folder\n",
    "# Returns (N,96,96,3) array of images and (N,) array of labels\n",
    "# --- IGNORE ---"
   ]
  },
  {
   "cell_type": "code",
   "execution_count": null,
   "id": "dfdb47f8",
   "metadata": {},
   "outputs": [],
   "source": [
    "import numpy as np\n",
    "from imagebow.hog import dense_hog\n",
    "\n",
    "desc_dense = dense_hog(X[0], nx=6, ny=6)\n",
    "print(\"Custom dense HOG:\", desc_dense.shape)\n"
   ]
  },
  {
   "cell_type": "code",
   "execution_count": null,
   "id": "52aa3bd9",
   "metadata": {},
   "outputs": [],
   "source": [
    "from imagebow.hog import extract_hog\n",
    "\n",
    "desc_ski = extract_hog(X[0])\n",
    "print(\"Skimage HOG:\", desc_ski.shape)\n"
   ]
  },
  {
   "cell_type": "code",
   "execution_count": null,
   "id": "b44d154f",
   "metadata": {},
   "outputs": [],
   "source": [
    "from imagebow.kmeans import kmeans\n",
    "\n",
    "C, labels = kmeans(np.random.rand(100,128).astype(np.float32), K=10, iters=5)\n",
    "print(\"Codebook:\", C.shape, \"Labels:\", labels.shape)\n"
   ]
  },
  {
   "cell_type": "code",
   "execution_count": null,
   "id": "62e3c212",
   "metadata": {},
   "outputs": [],
   "source": [
    "from imagebow.bow import bow_encode\n",
    "\n",
    "hist = bow_encode(desc_dense, C)   # encode using codebook\n",
    "print(\"Histogram:\", hist.shape, \"Sum:\", hist.sum())\n"
   ]
  },
  {
   "cell_type": "code",
   "execution_count": null,
   "id": "1f6e5e45",
   "metadata": {},
   "outputs": [],
   "source": [
    "from imagebow.knn import knn_predict\n",
    "\n",
    "trainX = np.eye(5)\n",
    "trainy = np.arange(5)\n",
    "testX = np.eye(5)\n",
    "pred = knn_predict(trainX, trainy, testX, k=1)\n",
    "print(\"KNN predictions:\", pred)\n"
   ]
  },
  {
   "cell_type": "code",
   "execution_count": null,
   "id": "9d89be02",
   "metadata": {},
   "outputs": [],
   "source": []
  }
 ],
 "metadata": {
  "kernelspec": {
   "display_name": ".venv (3.11.9)",
   "language": "python",
   "name": "python3"
  },
  "language_info": {
   "codemirror_mode": {
    "name": "ipython",
    "version": 3
   },
   "file_extension": ".py",
   "mimetype": "text/x-python",
   "name": "python",
   "nbconvert_exporter": "python",
   "pygments_lexer": "ipython3",
   "version": "3.11.9"
  }
 },
 "nbformat": 4,
 "nbformat_minor": 5
}
